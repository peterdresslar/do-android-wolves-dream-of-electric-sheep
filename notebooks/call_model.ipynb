{
 "cells": [
  {
   "cell_type": "code",
   "execution_count": null,
   "metadata": {},
   "outputs": [],
   "source": [
    "import matplotlib.pyplot as plt\n",
    "import pandas as pd\n",
    "import seaborn as sns\n",
    "\n",
    "# Fix the import path\n",
    "from model.model import run\n",
    "\n",
    "# Run model with no_ai=True (note the correct keyword argument syntax)\n",
    "results = run(no_ai=True)\n",
    "\n",
    "# Convert results to a DataFrame for plotting\n",
    "xdf = pd.DataFrame({\n",
    "    't': list(range(len(results['sheep_history']))),\n",
    "    's': results['sheep_history'],\n",
    "    'w': results['wolf_history']\n",
    "})\n",
    "\n",
    "# Create the plot\n",
    "sns.lineplot(data=pd.melt(xdf, id_vars=['t']), x='t', y='value', hue='variable', palette=['cadetblue', 'darkred'])\n",
    "plt.legend(frameon=False, ncol=2, loc='lower center', bbox_to_anchor=(.5, -.2))\n",
    "sns.despine(left=True, bottom=True)\n",
    "plt.subplots_adjust(bottom=0.2)\n",
    "plt.title('Wolf-Sheep Population Dynamics (No AI)')"
   ]
  }
 ],
 "metadata": {
  "kernelspec": {
   "display_name": ".venv",
   "language": "python",
   "name": "python3"
  },
  "language_info": {
   "name": "python",
   "version": "3.12.8"
  }
 },
 "nbformat": 4,
 "nbformat_minor": 2
}
