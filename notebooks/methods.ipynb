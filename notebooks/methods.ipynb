{
 "cells": [
  {
   "cell_type": "markdown",
   "metadata": {},
   "source": [
    "# The Wolf Agent and its Agency\n",
    "\n",
    "For our wolf model, we focus on a variable we call $\\theta$ (or `theta`) to endow the wolves with agency. \n",
    "\n",
    "Predators in Lotka Volterra will die off if all of the prey die off, and for many parameterized runs of LV this is precisely what happens. The finite supply of prey leads to growth of predators such that the prey animals are hunted to extinction. The fact that this system of equations models a real life phenomenon depends on the fact that the predator population will always consume all the prey it possibly can; the predators have no real planning or discernment mechanisms through which they can avoid this \"trap.\" \n",
    "\n",
    "If the predators *did* have such a mechanism, it could be effectively simplified to a factor that *dampens predation to a degree that the prey population never drops too low*. Since Earthʻs predators (excepting for one notable species) completely lack that type of behavior, it is as though there is no dampening function, or put another way, it as though that factor, if it existed, would be completely ineffectual. With factors, if we desire no effect, we set that factor to the multiplicative identity; the integer `1`.\n",
    "\n",
    "Wolves and other predator animals do actually have some behaviors---ones that could be described as comptetitive behaviors---that alter their approach to prey. These generally seem to be linked to overcrowding and corresponding prey scarcity, two variables that, while separate, are effectively connected at least by a cause and effect linkage. What tends to happen in these scenarios, speaking anecdotally, is that the predators will tend to fight among themselves, leading to the effects of:\n",
    "\n",
    "- predators dying or otherwise leaving the domain in question, perhaps by travelling to other habitats\n",
    "- predators hunting less effectively due to \"distraction\" or depleted energy and health reserves\n",
    "\n",
    "In both of these cases, we do have a somewhat common outcome, especially when taken from a continuous time perspective. We would expect, in general, for predator population growth to trend negatively due to either or both of these effects. We would also expect in subsequent periods for the prey population to enjoy correspondingly freer growth.\n",
    "\n",
    "It is important to note that these competitive behaviors certainly exist in actual every-day populations of predators like wolves. As such, they must already be \"based-in\" to any observations of predator-prey relationships purporting to verify or refine the LV system itself.\n",
    "\n",
    "We seek to explore the possibility of building a predator model that reacts to its environment in ways that help to keep it and its offspring alive by not driving the prey of the domain to extinction. The way the model can do this in a way consistent with all other aspects of our predator behavior is by competing harder when conditions require it. \"Fighting off\" other wolves, when there are too many. This addition in competition will lead to a dampening in growth through the two mechanisms that we describe above, and we will lable this additional comptetitive factor theta.\n",
    "\n",
    "Thus, modifying our normal \"wolf\" side of the Lotka Volterra equation system with $\\theta$:\n",
    "\n",
    "$$\n",
    "\\begin{align}\n",
    "\\frac{ds}{dt} &= \\alpha s - \\theta\\beta sw \\\\\n",
    "\\frac{dw}{dt} &= -\\gamma w + \\delta\\theta\\beta sw\n",
    "\\end{align}\n",
    "$$\n",
    "\n",
    "As mentioned above, we expect that \"normal\" predators lack the capability to plan and modify their behavior, so that they can effectively be applied to our modified equation by simply setting $\\theta$ to `1`. Since they are multiplied in, the ones more or less wash out of the mix. We could even suggest that wolves might be seen to have periodic wobbles in their behavior toward prey, and even in this case we might call $\\theta\\$ a function that somehow revolves around a baseline wolf behavior where the average or typical value is again `1`. That would seem to be a very typical real-world dynamic.\n",
    "\n",
    "Hinting at a function takes us to a very important point. In The Subliminal Wolf (herein TSW), we implemented a basic $\\theta$ variable, but it had to be implemented as a function to be sensitive to scarcity in ways that LV (and thus wolves!) are not. There are examples of settings for the function in TSW that give us a feeling for how a dynamically-set $\\theta$ will work with our population dynamics. \n",
    "\n",
    "For instance:\n",
    "\n",
    "$$\n",
    "\\begin{align}\n",
    "\\theta(s) = \\frac{1}{1 + k\\frac{s_0}{s + \\varepsilon}} \\text{ for some constant } k > 0. \\tag{3}\n",
    "\\end{align}\n",
    "$$\n",
    "\n",
    "The above describes one possible functioning of a theta factor that is sensitive to prey scarcity. When combined with our \"modified\" LV above (both lines (1) and (2)), it yields modified behavior that for specific values (especially when $\\theta \\cong 0.5$) will stablize the overall population.\n",
    "\n",
    "However, our ultimate goal is to allow for real agency; for our wolves to be run by artificial intelligences with the instruction to \"stay alive, thrive, and donʻt die\" (or something more complicated along those lines.)Doing this will allow us to compare results between an AI-controlled model and a model working with pure continuous functions (or no preference functions at all, of course.) In this project, we accomplish that by turning over the functional operation of $\\theta$ to these AIs.\n",
    "\n"
   ]
  }
 ],
 "metadata": {
  "language_info": {
   "name": "python"
  }
 },
 "nbformat": 4,
 "nbformat_minor": 2
}
