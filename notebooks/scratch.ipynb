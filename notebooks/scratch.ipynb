{
 "cells": [
  {
   "cell_type": "markdown",
   "metadata": {},
   "source": [
    "Just a utility notebook. Nothing to see here."
   ]
  },
  {
   "cell_type": "code",
   "execution_count": null,
   "metadata": {},
   "outputs": [],
   "source": [
    "import os\n",
    "import sys\n",
    "\n",
    "sys.path.append(os.path.abspath(\"..\"))\n",
    "\n",
    "from model.simulation_utils import create_replot\n",
    "\n",
    "print(\"Current working directory:\", os.getcwd())\n",
    "\n",
    "fig = create_replot(\"../data/results/gpt-4o-mini_5000_100-10_high_20250301_174147/_detailed_results/census.csv\", 1200)\n",
    "fig = create_replot(\"../data/results/gpt-4o-mini_5000_100-10_medium_20250301_215416/_detailed_results/census.csv\", 1200)\n",
    "fig = create_replot(\"../data/results/gpt-4o-mini_5000_100-10_low_20250302_024439/_detailed_results/census.csv\", 1200)\n",
    "\n"
   ]
  }
 ],
 "metadata": {
  "kernelspec": {
   "display_name": ".venv",
   "language": "python",
   "name": "python3"
  },
  "language_info": {
   "codemirror_mode": {
    "name": "ipython",
    "version": 3
   },
   "file_extension": ".py",
   "mimetype": "text/x-python",
   "name": "python",
   "nbconvert_exporter": "python",
   "pygments_lexer": "ipython3",
   "version": "3.12.8"
  }
 },
 "nbformat": 4,
 "nbformat_minor": 2
}
