{
 "cells": [
  {
   "cell_type": "code",
   "execution_count": null,
   "metadata": {},
   "outputs": [],
   "source": [
    "### This will not work without a key\n",
    "\n",
    "\n",
    "\n",
    "from utils import get_wolf_response\n",
    "\n",
    "# Example usage\n",
    "response = get_wolf_response(\n",
    "    s=100.0,        # current sheep\n",
    "    w=50.0,         # current wolves\n",
    "    s_max=200.0,    # maximum sheep capacity\n",
    "    old_theta=0.5,  # previous theta\n",
    "    step=1,         # current timestep\n",
    "    respond_verbosely=True\n",
    ")\n",
    "\n",
    "print(response)"
   ]
  }
 ],
 "metadata": {
  "kernelspec": {
   "display_name": ".venv",
   "language": "python",
   "name": "python3"
  },
  "language_info": {
   "codemirror_mode": {
    "name": "ipython",
    "version": 3
   },
   "file_extension": ".py",
   "mimetype": "text/x-python",
   "name": "python",
   "nbconvert_exporter": "python",
   "pygments_lexer": "ipython3",
   "version": "3.12.8"
  }
 },
 "nbformat": 4,
 "nbformat_minor": 2
}
